{
 "cells": [
  {
   "cell_type": "markdown",
   "id": "9ecdfe72",
   "metadata": {},
   "source": [
    "# VADER"
   ]
  },
  {
   "cell_type": "code",
   "execution_count": 1,
   "id": "991a9d64",
   "metadata": {},
   "outputs": [],
   "source": [
    "import nltk, time\n",
    "import pandas as pd\n",
    "from nltk.sentiment.vader import SentimentIntensityAnalyzer\n",
    "from sklearn.metrics import classification_report, accuracy_score\n",
    "from functools import reduce\n",
    "import re\n",
    "import numpy as np"
   ]
  },
  {
   "cell_type": "code",
   "execution_count": 2,
   "id": "ab9fc606",
   "metadata": {},
   "outputs": [],
   "source": [
    "def clean_review_info(text):\n",
    "    text = re.sub(r'[0-9]+', '', text)\n",
    "    repls = ('.', ' '), ('did n\\'t', 'didn\\'t'), ('wo n\\'t', 'won\\'t'), ('do n\\'t', 'don\\'t'), ('n\\'t', ''), ('*', ''), (',', ' '), ('\\'', ' '), ('-', ' ')\n",
    "    return reduce(lambda a, kv: a.replace(*kv), repls, text)"
   ]
  },
  {
   "cell_type": "code",
   "execution_count": 3,
   "id": "0c436749",
   "metadata": {},
   "outputs": [
    {
     "name": "stderr",
     "output_type": "stream",
     "text": [
      "[nltk_data] Downloading package vader_lexicon to\n",
      "[nltk_data]     /home/simon/nltk_data...\n",
      "[nltk_data]   Package vader_lexicon is already up-to-date!\n"
     ]
    }
   ],
   "source": [
    "nltk.download('vader_lexicon')\n",
    "sia = SentimentIntensityAnalyzer()"
   ]
  },
  {
   "cell_type": "code",
   "execution_count": 4,
   "id": "1affcf62",
   "metadata": {
    "scrolled": true
   },
   "outputs": [],
   "source": [
    "# Load the reviews.csv file into a Pandas dataframe\n",
    "reviews_df = pd.read_csv('tripadvisor_hotel_reviews.csv')\n",
    "tripadvisor_df = pd.read_csv('tripadvisor_hotel_reviews.csv')\n",
    "fine_food_df = pd.read_csv('amazon_fine_food_reviews.csv')\n",
    "unlocked_df = pd.read_csv('Amazon_Unlocked_Mobile.csv')\n",
    "google_df = pd.read_csv('google_play_store_reviews.csv')\n",
    "clothing_df = pd.read_csv('Womens Clothing E-Commerce Reviews.csv')\n",
    "unlocked_df = unlocked_df.dropna(subset=[\"Reviews\"])\n",
    "clothing_df = clothing_df.dropna(subset=[\"Review Text\"])\n"
   ]
  },
  {
   "cell_type": "code",
   "execution_count": null,
   "id": "548c3339",
   "metadata": {},
   "outputs": [],
   "source": [
    "#tripadvisor_df.info()\n",
    "#fine_food_df.info()\n",
    "#unlocked_df.info()\n",
    "#google_df.info()\n",
    "#clothing_df.info()\n",
    "\"\"\"\n",
    "tripadvisor: Review, Rating\n",
    "fine food: Text, Score\n",
    "unlocked: Reviews, Rating\n",
    "google: content, score\n",
    "clothing: Review Text, Rating\n",
    "\"\"\""
   ]
  },
  {
   "cell_type": "code",
   "execution_count": 5,
   "id": "006283a4",
   "metadata": {},
   "outputs": [],
   "source": [
    "def map_rating_to_sentiment(row):\n",
    "    if 'Rating' in row.keys():\n",
    "        key = 'Rating'\n",
    "    elif 'Score' in row.keys():\n",
    "        key = 'Score'\n",
    "    elif 'score' in row.keys():\n",
    "        key = 'score'\n",
    "    \n",
    "    #rating = row['Rating']\n",
    "    rating = row[key]\n",
    "    if rating in [1,2]:\n",
    "        return \"Negative\"\n",
    "    elif rating in [3]:\n",
    "        return \"Neutral\"\n",
    "    elif rating in [4,5]:\n",
    "        return \"Positive\"\n",
    "    return \"Unknown\"\n",
    "\n",
    "def map_rating_to_sentiment_score(row):\n",
    "    #rating = row['Rating']\n",
    "    if 'Rating' in row.keys():\n",
    "        key = 'Rating'\n",
    "    elif 'Score' in row.keys():\n",
    "        key = 'Score'\n",
    "    elif 'score' in row.keys():\n",
    "        key = 'score'\n",
    "    \n",
    "    #rating = row['Rating']\n",
    "    rating = row[key]\n",
    "    if rating in [1,2]:\n",
    "        return 1\n",
    "    elif rating in [3]:\n",
    "        return 2\n",
    "    elif rating in [4,5]:\n",
    "        return 3\n",
    "    return -1\n",
    "\n",
    "def get_compound_score(row):\n",
    "    if 'Review' in row.keys():\n",
    "        key = 'Review'\n",
    "    elif 'Text' in row.keys():\n",
    "        key = 'Text'\n",
    "    elif 'content' in row.keys():\n",
    "        key = 'content'\n",
    "    elif 'Review Text' in row.keys():\n",
    "        key = 'Review Text'\n",
    "    elif 'Reviews' in row.keys():\n",
    "        key = 'Reviews'\n",
    "    sentiment_scores = sia.polarity_scores(row[key])\n",
    "    return sentiment_scores['compound']\n",
    "\n",
    "def get_prediction(review):\n",
    "    sentiment_scores = sia.polarity_scores(review)\n",
    "    if sentiment_scores['compound'] >= 0.05:\n",
    "        return 'Positive'\n",
    "    elif sentiment_scores['compound'] <= -0.05:\n",
    "        return 'Negative'\n",
    "    else:\n",
    "        return 'Neutral'\n",
    "    return 'Undefined'"
   ]
  },
  {
   "cell_type": "code",
   "execution_count": 6,
   "id": "6ac03e72",
   "metadata": {},
   "outputs": [
    {
     "name": "stdout",
     "output_type": "stream",
     "text": [
      "Tripadvisor Hotel Reviews\n",
      "Performance:\n",
      "- Accuracy: 0.81\n",
      "- Vader Prediction Time: 3.19s\n",
      "- Classification Report:\n",
      "\n",
      "              precision    recall  f1-score   support\n",
      "\n",
      "    Negative       0.80      0.37      0.50       280\n",
      "     Neutral       0.17      0.00      0.01       204\n",
      "    Positive       0.81      0.99      0.89      1566\n",
      "\n",
      "    accuracy                           0.81      2050\n",
      "   macro avg       0.59      0.45      0.47      2050\n",
      "weighted avg       0.75      0.81      0.75      2050\n",
      "\n"
     ]
    },
    {
     "data": {
      "image/png": "[encoded data removed]",
      "text/plain": [
       "<Figure size 640x480 with 1 Axes>"
      ]
     },
     "metadata": {},
     "output_type": "display_data"
    }
   ],
   "source": [
    "#Tripadvisor Hotel Reviews\n",
    "tripadvisor_df['Sentiment'] = tripadvisor_df.apply(map_rating_to_sentiment, axis=1)\n",
    "tripadvisor_df['Sentiment Score'] = tripadvisor_df.apply(map_rating_to_sentiment_score, axis=1)\n",
    "no_of_reviews = len(tripadvisor_df)\n",
    "sections = [int(0.8 * no_of_reviews), int(0.9 * no_of_reviews)]\n",
    "\n",
    "reviews_train, reviews_test, reviews_val = np.split(\n",
    "    ary = tripadvisor_df[\"Review\"],             # Array to split (i.e. our DataFrame of reviews)\n",
    "    indices_or_sections = sections          # Sections to split (i.e. split at 80% and 90% mark)\n",
    ")\n",
    "y_sentiment_train, y_sentiment_test, y_sentiment_val = np.split(\n",
    "    ary = tripadvisor_df[\"Sentiment\"],             # Array to split (i.e. our DataFrame of reviews)\n",
    "    indices_or_sections = sections          # Sections to split (i.e. split at 80% and 90% mark)\n",
    ")\n",
    "\n",
    "tripadvisor_df['Compound Score'] = tripadvisor_df.apply(get_compound_score, axis=1)\n",
    "pred_start = time.perf_counter()\n",
    "val_predictions = reviews_val.apply(get_prediction)\n",
    "pred_end = time.perf_counter()\n",
    "\n",
    "# Calculate accuracy\n",
    "accuracy = accuracy_score(y_sentiment_val, val_predictions)\n",
    "tripadvisor_df[tripadvisor_df['Rating'] == 3]['Compound Score'].plot.hist()\n",
    "\n",
    "print('Tripadvisor Hotel Reviews')\n",
    "print(f'Performance:')\n",
    "print(f'- Accuracy: {accuracy:.2f}')\n",
    "print(f'- Vader Prediction Time: {pred_end - pred_start:.2f}s')\n",
    "print(f'- Classification Report:\\n')\n",
    "print(classification_report(y_sentiment_val, val_predictions))"
   ]
  },
  {
   "cell_type": "code",
   "execution_count": 7,
   "id": "33bbc60d",
   "metadata": {},
   "outputs": [
    {
     "name": "stdout",
     "output_type": "stream",
     "text": [
      "Amazon Fine Food Reviews\n",
      "Performance:\n",
      "- Accuracy: 0.81\n",
      "- Vader Prediction Time: 47.62s\n",
      "- Classification Report:\n",
      "\n",
      "              precision    recall  f1-score   support\n",
      "\n",
      "    Negative       0.54      0.40      0.46      7681\n",
      "     Neutral       0.14      0.04      0.06      4103\n",
      "    Positive       0.85      0.94      0.90     45062\n",
      "\n",
      "    accuracy                           0.81     56846\n",
      "   macro avg       0.51      0.46      0.47     56846\n",
      "weighted avg       0.76      0.81      0.78     56846\n",
      "\n"
     ]
    },
    {
     "data": {
      "image/png": "[encoded data removed]",
      "text/plain": [
       "<Figure size 640x480 with 1 Axes>"
      ]
     },
     "metadata": {},
     "output_type": "display_data"
    }
   ],
   "source": [
    "#Amazon Fine Food Reviews\n",
    "fine_food_df['Sentiment'] = fine_food_df.apply(map_rating_to_sentiment, axis=1)\n",
    "fine_food_df['Sentiment Score'] = fine_food_df.apply(map_rating_to_sentiment_score, axis=1)\n",
    "no_of_reviews = len(fine_food_df)\n",
    "sections = [int(0.8 * no_of_reviews), int(0.9 * no_of_reviews)]\n",
    "\n",
    "reviews_train, reviews_test, reviews_val = np.split(\n",
    "    ary = fine_food_df[\"Text\"],             # Array to split (i.e. our DataFrame of reviews)\n",
    "    indices_or_sections = sections          # Sections to split (i.e. split at 80% and 90% mark)\n",
    ")\n",
    "y_sentiment_train, y_sentiment_test, y_sentiment_val = np.split(\n",
    "    ary = fine_food_df[\"Sentiment\"],             # Array to split (i.e. our DataFrame of reviews)\n",
    "    indices_or_sections = sections          # Sections to split (i.e. split at 80% and 90% mark)\n",
    ")\n",
    "\n",
    "fine_food_df['Compound Score'] = fine_food_df.apply(get_compound_score, axis=1)\n",
    "pred_start = time.perf_counter()\n",
    "val_predictions = reviews_val.apply(get_prediction)\n",
    "pred_end = time.perf_counter()\n",
    "\n",
    "# Calculate accuracy\n",
    "accuracy = accuracy_score(y_sentiment_val, val_predictions)\n",
    "fine_food_df[fine_food_df['Score'] == 3]['Compound Score'].plot.hist()\n",
    "\n",
    "print('Amazon Fine Food Reviews')\n",
    "print(f'Performance:')\n",
    "print(f'- Accuracy: {accuracy:.2f}')\n",
    "print(f'- Vader Prediction Time: {pred_end - pred_start:.2f}s')\n",
    "print(f'- Classification Report:\\n')\n",
    "print(classification_report(y_sentiment_val, val_predictions))\n"
   ]
  },
  {
   "cell_type": "code",
   "execution_count": 8,
   "id": "7081a745",
   "metadata": {},
   "outputs": [
    {
     "name": "stdout",
     "output_type": "stream",
     "text": [
      "Amazon Unlocked Mobile\n",
      "Performance:\n",
      "- Accuracy: 0.71\n",
      "- Vader Prediction Time: 22.80s\n",
      "- Classification Report:\n",
      "\n",
      "              precision    recall  f1-score   support\n",
      "\n",
      "    Negative       0.69      0.55      0.61     10246\n",
      "     Neutral       0.10      0.14      0.11      3773\n",
      "    Positive       0.82      0.84      0.83     27359\n",
      "\n",
      "    accuracy                           0.71     41378\n",
      "   macro avg       0.54      0.51      0.52     41378\n",
      "weighted avg       0.72      0.71      0.71     41378\n",
      "\n"
     ]
    }
   ],
   "source": [
    "#Amazon Unlocked Mobile\n",
    "unlocked_df['Sentiment'] = unlocked_df.apply(map_rating_to_sentiment, axis=1)\n",
    "unlocked_df['Sentiment Score'] = unlocked_df.apply(map_rating_to_sentiment_score, axis=1)\n",
    "no_of_reviews = len(unlocked_df)\n",
    "sections = [int(0.8 * no_of_reviews), int(0.9 * no_of_reviews)]\n",
    "\n",
    "reviews_train, reviews_test, reviews_val = np.split(\n",
    "    ary = unlocked_df[\"Reviews\"],             # Array to split (i.e. our DataFrame of reviews)\n",
    "    indices_or_sections = sections          # Sections to split (i.e. split at 80% and 90% mark)\n",
    ")\n",
    "y_sentiment_train, y_sentiment_test, y_sentiment_val = np.split(\n",
    "    ary = unlocked_df[\"Sentiment\"],             # Array to split (i.e. our DataFrame of reviews)\n",
    "    indices_or_sections = sections          # Sections to split (i.e. split at 80% and 90% mark)\n",
    ")\n",
    "\n",
    "#unlocked_df['Compound Score'] = unlocked_df.apply(get_compound_score, axis=1)\n",
    "pred_start = time.perf_counter()\n",
    "val_predictions = reviews_val.apply(get_prediction)\n",
    "pred_end = time.perf_counter()\n",
    "\n",
    "# Calculate accuracy\n",
    "accuracy = accuracy_score(y_sentiment_val, val_predictions)\n",
    "#unlocked_df[unlocked_df['Rating'] == 3]['Compound Score'].plot.hist()\n",
    "\n",
    "print('Amazon Unlocked Mobile')\n",
    "print(f'Performance:')\n",
    "print(f'- Accuracy: {accuracy:.2f}')\n",
    "print(f'- Vader Prediction Time: {pred_end - pred_start:.2f}s')\n",
    "print(f'- Classification Report:\\n')\n",
    "print(classification_report(y_sentiment_val, val_predictions))"
   ]
  },
  {
   "cell_type": "code",
   "execution_count": 9,
   "id": "b56af160",
   "metadata": {},
   "outputs": [
    {
     "name": "stdout",
     "output_type": "stream",
     "text": [
      "Google Play Store Reviews\n",
      "Performance:\n",
      "- Accuracy: 0.63\n",
      "- Vader Prediction Time: 0.32s\n",
      "- Classification Report:\n",
      "\n",
      "              precision    recall  f1-score   support\n",
      "\n",
      "    Negative       0.71      0.43      0.53       400\n",
      "     Neutral       0.15      0.20      0.17       150\n",
      "    Positive       0.72      0.83      0.77       700\n",
      "\n",
      "    accuracy                           0.63      1250\n",
      "   macro avg       0.53      0.49      0.49      1250\n",
      "weighted avg       0.65      0.63      0.62      1250\n",
      "\n"
     ]
    },
    {
     "data": {
      "image/png": "[encoded data removed]",
      "text/plain": [
       "<Figure size 640x480 with 1 Axes>"
      ]
     },
     "metadata": {},
     "output_type": "display_data"
    }
   ],
   "source": [
    "#Google Play Store Reviews\n",
    "google_df['Sentiment'] = google_df.apply(map_rating_to_sentiment, axis=1)\n",
    "google_df['Sentiment Score'] = google_df.apply(map_rating_to_sentiment_score, axis=1)\n",
    "no_of_reviews = len(google_df)\n",
    "sections = [int(0.8 * no_of_reviews), int(0.9 * no_of_reviews)]\n",
    "\n",
    "reviews_train, reviews_test, reviews_val = np.split(\n",
    "    ary = google_df[\"content\"],             # Array to split (i.e. our DataFrame of reviews)\n",
    "    indices_or_sections = sections          # Sections to split (i.e. split at 80% and 90% mark)\n",
    ")\n",
    "y_sentiment_train, y_sentiment_test, y_sentiment_val = np.split(\n",
    "    ary = google_df[\"Sentiment\"],             # Array to split (i.e. our DataFrame of reviews)\n",
    "    indices_or_sections = sections          # Sections to split (i.e. split at 80% and 90% mark)\n",
    ")\n",
    "\n",
    "google_df['Compound Score'] = google_df.apply(get_compound_score, axis=1)\n",
    "pred_start = time.perf_counter()\n",
    "val_predictions = reviews_val.apply(get_prediction)\n",
    "pred_end = time.perf_counter()\n",
    "\n",
    "# Calculate accuracy\n",
    "accuracy = accuracy_score(y_sentiment_val, val_predictions)\n",
    "google_df[google_df['score'] == 3]['Compound Score'].plot.hist()\n",
    "\n",
    "print('Google Play Store Reviews')\n",
    "print(f'Performance:')\n",
    "print(f'- Accuracy: {accuracy:.2f}')\n",
    "print(f'- Vader Prediction Time: {pred_end - pred_start:.2f}s')\n",
    "print(f'- Classification Report:\\n')\n",
    "print(classification_report(y_sentiment_val, val_predictions))"
   ]
  },
  {
   "cell_type": "code",
   "execution_count": 10,
   "id": "e9117169",
   "metadata": {},
   "outputs": [
    {
     "name": "stdout",
     "output_type": "stream",
     "text": [
      "Womens Clothing E-Commerce Reviews\n",
      "Performance:\n",
      "- Accuracy: 0.79\n",
      "- Vader Prediction Time: 1.46s\n",
      "- Classification Report:\n",
      "\n",
      "              precision    recall  f1-score   support\n",
      "\n",
      "    Negative       0.44      0.27      0.34       228\n",
      "     Neutral       0.32      0.03      0.06       265\n",
      "    Positive       0.82      0.97      0.89      1772\n",
      "\n",
      "    accuracy                           0.79      2265\n",
      "   macro avg       0.53      0.42      0.43      2265\n",
      "weighted avg       0.72      0.79      0.74      2265\n",
      "\n"
     ]
    },
    {
     "data": {
      "image/png": "[encoded data removed]",
      "text/plain": [
       "<Figure size 640x480 with 1 Axes>"
      ]
     },
     "metadata": {},
     "output_type": "display_data"
    }
   ],
   "source": [
    "#Womens Clothing E-Commerce Reviews\n",
    "clothing_df['Sentiment'] = clothing_df.apply(map_rating_to_sentiment, axis=1)\n",
    "clothing_df['Sentiment Score'] = clothing_df.apply(map_rating_to_sentiment_score, axis=1)\n",
    "no_of_reviews = len(clothing_df)\n",
    "sections = [int(0.8 * no_of_reviews), int(0.9 * no_of_reviews)]\n",
    "\n",
    "reviews_train, reviews_test, reviews_val = np.split(\n",
    "    ary = clothing_df[\"Review Text\"],             # Array to split (i.e. our DataFrame of reviews)\n",
    "    indices_or_sections = sections          # Sections to split (i.e. split at 80% and 90% mark)\n",
    ")\n",
    "y_sentiment_train, y_sentiment_test, y_sentiment_val = np.split(\n",
    "    ary = clothing_df[\"Sentiment\"],             # Array to split (i.e. our DataFrame of reviews)\n",
    "    indices_or_sections = sections          # Sections to split (i.e. split at 80% and 90% mark)\n",
    ")\n",
    "\n",
    "clothing_df['Compound Score'] = clothing_df.apply(get_compound_score, axis=1)\n",
    "pred_start = time.perf_counter()\n",
    "val_predictions = reviews_val.apply(get_prediction)\n",
    "pred_end = time.perf_counter()\n",
    "\n",
    "# Calculate accuracy\n",
    "accuracy = accuracy_score(y_sentiment_val, val_predictions)\n",
    "clothing_df[clothing_df['Rating'] == 3]['Compound Score'].plot.hist()\n",
    "\n",
    "print('Womens Clothing E-Commerce Reviews')\n",
    "print(f'Performance:')\n",
    "print(f'- Accuracy: {accuracy:.2f}')\n",
    "print(f'- Vader Prediction Time: {pred_end - pred_start:.2f}s')\n",
    "print(f'- Classification Report:\\n')\n",
    "print(classification_report(y_sentiment_val, val_predictions))"
   ]
  },
  {
   "cell_type": "code",
   "execution_count": null,
   "id": "5b6a89f9",
   "metadata": {},
   "outputs": [],
   "source": []
  }
 ],
 "metadata": {
  "kernelspec": {
   "display_name": "Python 3 (ipykernel)",
   "language": "python",
   "name": "python3"
  },
  "language_info": {
   "codemirror_mode": {
    "name": "ipython",
    "version": 3
   },
   "file_extension": ".py",
   "mimetype": "text/x-python",
   "name": "python",
   "nbconvert_exporter": "python",
   "pygments_lexer": "ipython3",
   "version": "3.10.6"
  }
 },
 "nbformat": 4,
 "nbformat_minor": 5
}
