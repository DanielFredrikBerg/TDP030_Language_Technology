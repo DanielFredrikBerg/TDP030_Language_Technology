{
 "cells": [
  {
   "cell_type": "markdown",
   "id": "3f092b23",
   "metadata": {},
   "source": [
    "# Random Forest"
   ]
  },
  {
   "cell_type": "code",
   "execution_count": 11,
   "id": "103e1376",
   "metadata": {},
   "outputs": [],
   "source": [
    "import pandas as pd\n",
    "from sklearn.feature_extraction.text import TfidfVectorizer\n",
    "from sklearn.ensemble import RandomForestClassifier\n",
    "from sklearn.model_selection import GridSearchCV, train_test_split\n",
    "from sklearn.metrics import classification_report\n",
    "from functools import reduce\n",
    "import re\n",
    "import numpy as np"
   ]
  },
  {
   "cell_type": "code",
   "execution_count": 3,
   "id": "39dad88e",
   "metadata": {},
   "outputs": [],
   "source": [
    "# Load the reviews.csv file into a Pandas dataframe\n",
    "reviews_df = pd.read_csv('tripadvisor_hotel_reviews.csv')"
   ]
  },
  {
   "cell_type": "code",
   "execution_count": 4,
   "id": "6468aed7",
   "metadata": {},
   "outputs": [],
   "source": [
    "# Define a function to recode the values of the Score column\n",
    "def recode_score(score):\n",
    "    if score in [1, 2]:\n",
    "        return 1\n",
    "    elif score == 3:\n",
    "        return 2\n",
    "    elif score in [4, 5]:\n",
    "        return 3"
   ]
  },
  {
   "cell_type": "code",
   "execution_count": 5,
   "id": "45069357",
   "metadata": {},
   "outputs": [],
   "source": [
    "# Extract the review text and the corresponding scores from the dataframe\n",
    "reviews_df['Sentiment Score'] = reviews_df['Rating'].apply(recode_score)\n",
    "#reviews_df['Review'] = reviews_df['Review'].apply(clean_review_info)"
   ]
  },
  {
   "cell_type": "code",
   "execution_count": 7,
   "id": "2e3ce730",
   "metadata": {},
   "outputs": [],
   "source": [
    "vectorizer = TfidfVectorizer(\n",
    "    min_df = 5,          # Minimum document frequency (i.e. ignore all words with less than 5 occurrences)\n",
    "    max_df = 0.8,        # Maximum document frequency (i.e. ignore all words that account for 80% of the corpus size)\n",
    "    sublinear_tf = True, # Apply sublinear term frequency scaling\n",
    "    ngram_range=(1,3)    \n",
    ")"
   ]
  },
  {
   "cell_type": "code",
   "execution_count": 8,
   "id": "a977f457",
   "metadata": {},
   "outputs": [],
   "source": [
    "no_of_reviews = len(reviews_df)\n",
    "sections = [int(0.8 * no_of_reviews), int(0.9 * no_of_reviews)]\n",
    "\n",
    "reviews_train, reviews_test, reviews_val = np.split(\n",
    "    ary = reviews_df[\"Review\"],             # Array to split (i.e. our DataFrame of reviews)\n",
    "    indices_or_sections = sections          # Sections to split (i.e. split at 80% and 90% mark)\n",
    ")\n",
    "vectorizer.fit(reviews_train)\n",
    "X_train, X_test, X_val = (\n",
    "    vectorizer.transform(reviews_train),\n",
    "    vectorizer.transform(reviews_test),\n",
    "    vectorizer.transform(reviews_val),\n",
    ")\n",
    "y_rating_train, y_rating_test, y_rating_val = np.split(\n",
    "    ary = reviews_df[\"Rating\"],             # Array to split (i.e. our DataFrame of reviews)\n",
    "    indices_or_sections = sections          # Sections to split (i.e. split at 80% and 90% mark)\n",
    ")\n",
    "y_sentiment_train, y_sentiment_test, y_sentiment_val = np.split(\n",
    "    ary = reviews_df[\"Sentiment Score\"],             # Array to split (i.e. our DataFrame of reviews)\n",
    "    indices_or_sections = sections          # Sections to split (i.e. split at 80% and 90% mark)\n",
    ")"
   ]
  },
  {
   "cell_type": "code",
   "execution_count": 12,
   "id": "980dd74e",
   "metadata": {},
   "outputs": [
    {
     "name": "stdout",
     "output_type": "stream",
     "text": [
      "              precision    recall  f1-score   support\n",
      "\n",
      "           1       0.64      0.38      0.48       103\n",
      "           2       0.18      0.01      0.03       143\n",
      "           3       0.33      0.00      0.01       207\n",
      "           4       0.40      0.34      0.37       569\n",
      "           5       0.63      0.91      0.74      1027\n",
      "\n",
      "    accuracy                           0.57      2049\n",
      "   macro avg       0.44      0.33      0.33      2049\n",
      "weighted avg       0.51      0.57      0.50      2049\n",
      "\n"
     ]
    }
   ],
   "source": [
    "# Create an instance of the TfidfVectorizer class\n",
    "# tfidf_vectorizer = TfidfVectorizer(\n",
    "#     min_df=5, max_df=0.9,\n",
    "#     ngram_range=(1,1),\n",
    "#     stop_words='english',\n",
    "#     use_idf=True, smooth_idf=True, sublinear_tf=True\n",
    "# )\n",
    "\n",
    "# Create an instance of the RandomForestClassifier class\n",
    "rfc_rating = RandomForestClassifier(n_estimators=100, random_state=42)\n",
    "\n",
    "# Train the classifier on the training data\n",
    "rfc_rating.fit(X_train, y_rating_train)\n",
    "\n",
    "# Use the classifier to make predictions on the testing data\n",
    "rfc_rating_test_predictions = rfc_rating.predict(X_test)\n",
    "\n",
    "# Print the classification report\n",
    "print(classification_report(y_rating_test, rfc_rating_test_predictions))"
   ]
  },
  {
   "cell_type": "code",
   "execution_count": 13,
   "id": "adefdd9d",
   "metadata": {},
   "outputs": [
    {
     "name": "stdout",
     "output_type": "stream",
     "text": [
      "              precision    recall  f1-score   support\n",
      "\n",
      "           1       0.86      0.41      0.56       246\n",
      "           2       1.00      0.00      0.01       207\n",
      "           3       0.83      1.00      0.90      1596\n",
      "\n",
      "    accuracy                           0.83      2049\n",
      "   macro avg       0.90      0.47      0.49      2049\n",
      "weighted avg       0.85      0.83      0.77      2049\n",
      "\n"
     ]
    }
   ],
   "source": [
    "# Create an instance of the RandomForestClassifier class\n",
    "rfc_sentiment = RandomForestClassifier(n_estimators=100, random_state=42)\n",
    "\n",
    "# Train the classifier on the training data\n",
    "rfc_sentiment.fit(X_train, y_sentiment_train)\n",
    "\n",
    "# Use the classifier to make predictions on the testing data\n",
    "rfc_sentiment_predictions = rfc_sentiment.predict(X_test)\n",
    "\n",
    "# Print the classification report\n",
    "print(classification_report(y_sentiment_test, rfc_sentiment_predictions))"
   ]
  },
  {
   "cell_type": "code",
   "execution_count": 14,
   "id": "fb5eb3a6",
   "metadata": {},
   "outputs": [
    {
     "name": "stdout",
     "output_type": "stream",
     "text": [
      "              precision    recall  f1-score   support\n",
      "\n",
      "           1       0.68      0.46      0.55       114\n",
      "           2       0.45      0.06      0.11       166\n",
      "           3       0.33      0.00      0.01       204\n",
      "           4       0.40      0.33      0.36       585\n",
      "           5       0.62      0.92      0.74       981\n",
      "\n",
      "    accuracy                           0.57      2050\n",
      "   macro avg       0.50      0.35      0.35      2050\n",
      "weighted avg       0.52      0.57      0.50      2050\n",
      "\n"
     ]
    }
   ],
   "source": [
    "# Use the classifier to make predictions on the testing data\n",
    "rfc_rating_val_predictions = rfc_rating.predict(X_val)\n",
    "\n",
    "# Print the classification report\n",
    "print(classification_report(y_rating_val, rfc_rating_val_predictions))"
   ]
  },
  {
   "cell_type": "code",
   "execution_count": 15,
   "id": "4ba067db",
   "metadata": {},
   "outputs": [
    {
     "name": "stdout",
     "output_type": "stream",
     "text": [
      "              precision    recall  f1-score   support\n",
      "\n",
      "           1       0.88      0.46      0.61       280\n",
      "           2       0.00      0.00      0.00       204\n",
      "           3       0.82      1.00      0.90      1566\n",
      "\n",
      "    accuracy                           0.82      2050\n",
      "   macro avg       0.57      0.49      0.50      2050\n",
      "weighted avg       0.75      0.82      0.77      2050\n",
      "\n"
     ]
    },
    {
     "name": "stderr",
     "output_type": "stream",
     "text": [
      "/home/nicholasygd/Environments/ds/lib/python3.9/site-packages/sklearn/metrics/_classification.py:1344: UndefinedMetricWarning: Precision and F-score are ill-defined and being set to 0.0 in labels with no predicted samples. Use `zero_division` parameter to control this behavior.\n",
      "  _warn_prf(average, modifier, msg_start, len(result))\n",
      "/home/nicholasygd/Environments/ds/lib/python3.9/site-packages/sklearn/metrics/_classification.py:1344: UndefinedMetricWarning: Precision and F-score are ill-defined and being set to 0.0 in labels with no predicted samples. Use `zero_division` parameter to control this behavior.\n",
      "  _warn_prf(average, modifier, msg_start, len(result))\n",
      "/home/nicholasygd/Environments/ds/lib/python3.9/site-packages/sklearn/metrics/_classification.py:1344: UndefinedMetricWarning: Precision and F-score are ill-defined and being set to 0.0 in labels with no predicted samples. Use `zero_division` parameter to control this behavior.\n",
      "  _warn_prf(average, modifier, msg_start, len(result))\n"
     ]
    }
   ],
   "source": [
    "# Use the classifier to make predictions on the testing data\n",
    "rfc_sentiment_val_predictions = rfc_sentiment.predict(X_val)\n",
    "\n",
    "# Print the classification report\n",
    "print(classification_report(y_sentiment_val, rfc_sentiment_val_predictions))"
   ]
  },
  {
   "cell_type": "code",
   "execution_count": null,
   "id": "5430ca70",
   "metadata": {},
   "outputs": [],
   "source": []
  }
 ],
 "metadata": {
  "kernelspec": {
   "display_name": "Python 3 (ipykernel)",
   "language": "python",
   "name": "python3"
  },
  "language_info": {
   "codemirror_mode": {
    "name": "ipython",
    "version": 3
   },
   "file_extension": ".py",
   "mimetype": "text/x-python",
   "name": "python",
   "nbconvert_exporter": "python",
   "pygments_lexer": "ipython3",
   "version": "3.9.15"
  }
 },
 "nbformat": 4,
 "nbformat_minor": 5
}
